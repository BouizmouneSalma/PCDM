{
 "cells": [
  {
   "cell_type": "markdown",
   "id": "c1fb8ec1",
   "metadata": {},
   "source": [
    "<center>\n",
    "<H2><span style=\"text-align: center; font-weight: bold; color: #746bb3ff;\">Tâche 1 : Chargement des données</span></H2>\n",
    "</center>"
   ]
  },
  {
   "cell_type": "code",
   "execution_count": null,
   "id": "e34cbfdd",
   "metadata": {
    "vscode": {
     "languageId": "markdown"
    }
   },
   "outputs": [
    {
     "name": "stdout",
     "output_type": "stream",
     "text": [
      "<class 'pandas.core.frame.DataFrame'>\n",
      "RangeIndex: 1338 entries, 0 to 1337\n",
      "Data columns (total 7 columns):\n",
      " #   Column    Non-Null Count  Dtype  \n",
      "---  ------    --------------  -----  \n",
      " 0   age       1338 non-null   int64  \n",
      " 1   sex       1338 non-null   object \n",
      " 2   bmi       1338 non-null   float64\n",
      " 3   children  1338 non-null   int64  \n",
      " 4   smoker    1338 non-null   object \n",
      " 5   region    1338 non-null   object \n",
      " 6   charges   1338 non-null   float64\n",
      "dtypes: float64(2), int64(2), object(3)\n",
      "memory usage: 73.3+ KB\n",
      "None\n",
      "Nombre de lignes et colonnes : (1338, 7)\n",
      "age           int64\n",
      "sex          object\n",
      "bmi         float64\n",
      "children      int64\n",
      "smoker       object\n",
      "region       object\n",
      "charges     float64\n",
      "dtype: object\n",
      "age         0\n",
      "sex         0\n",
      "bmi         0\n",
      "children    0\n",
      "smoker      0\n",
      "region      0\n",
      "charges     0\n",
      "dtype: int64\n"
     ]
    }
   ],
   "source": [
    "import pandas as pd\n",
    "# 1. Importer les données à l'aide de la bibliothèque Pandas.\n",
    "df = pd.read_csv(\"assurance-maladie-68d92978e362f464596651.csv\")\n",
    "\n",
    "# 2. Vérifier le type et la structure des colonnes.\n",
    "\n",
    "# Informations générales sur le dataset\n",
    "print(df.info())\n",
    "\n",
    "# Dimensions du dataset\n",
    "print(\"Nombre de lignes et colonnes :\", df.shape)\n",
    "\n",
    "# Vérifier les types et un aperçu rapide\n",
    "print(df.dtypes)\n",
    "\n",
    "# Vérifier s'il y a des valeurs manquantes\n",
    "print(df.isnull().sum())\n"
   ]
  },
  {
   "cell_type": "code",
   "execution_count": null,
   "id": "57acb555",
   "metadata": {},
   "outputs": [],
   "source": []
  }
 ],
 "metadata": {
  "kernelspec": {
   "display_name": "Python 3",
   "language": "python",
   "name": "python3"
  },
  "language_info": {
   "codemirror_mode": {
    "name": "ipython",
    "version": 3
   },
   "file_extension": ".py",
   "mimetype": "text/x-python",
   "name": "python",
   "nbconvert_exporter": "python",
   "pygments_lexer": "ipython3",
   "version": "3.13.7"
  }
 },
 "nbformat": 4,
 "nbformat_minor": 5
}
