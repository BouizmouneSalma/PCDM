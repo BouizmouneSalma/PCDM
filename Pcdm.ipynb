{
 "cells": [
  {
   "cell_type": "markdown",
   "id": "c1fb8ec1",
   "metadata": {},
   "source": [
    "<center>\n",
    "<H2><span style=\"text-align: center; font-weight: bold; color: #746bb3ff;\">Tâche 1 : Chargement des données</span></H2>\n",
    "</center>"
   ]
  },
  {
   "cell_type": "code",
   "execution_count": 9,
   "id": "e34cbfdd",
   "metadata": {
    "vscode": {
     "languageId": "markdown"
    }
   },
   "outputs": [
    {
     "name": "stdout",
     "output_type": "stream",
     "text": [
      "<class 'pandas.core.frame.DataFrame'>\n",
      "RangeIndex: 1338 entries, 0 to 1337\n",
      "Data columns (total 7 columns):\n",
      " #   Column    Non-Null Count  Dtype  \n",
      "---  ------    --------------  -----  \n",
      " 0   age       1338 non-null   int64  \n",
      " 1   sex       1338 non-null   object \n",
      " 2   bmi       1338 non-null   float64\n",
      " 3   children  1338 non-null   int64  \n",
      " 4   smoker    1338 non-null   object \n",
      " 5   region    1338 non-null   object \n",
      " 6   charges   1338 non-null   float64\n",
      "dtypes: float64(2), int64(2), object(3)\n",
      "memory usage: 73.3+ KB\n",
      "None\n",
      "Nombre de lignes et colonnes : (1338, 7)\n",
      "age           int64\n",
      "sex          object\n",
      "bmi         float64\n",
      "children      int64\n",
      "smoker       object\n",
      "region       object\n",
      "charges     float64\n",
      "dtype: object\n",
      "age         0\n",
      "sex         0\n",
      "bmi         0\n",
      "children    0\n",
      "smoker      0\n",
      "region      0\n",
      "charges     0\n",
      "dtype: int64\n"
     ]
    }
   ],
   "source": [
    "import pandas as pd\n",
    "# 1. Importer les données à l'aide de la bibliothèque Pandas.\n",
    "df = pd.read_csv(\"assurance-maladie-68d92978e362f464596651.csv\")\n",
    "\n",
    "# 2. Vérifier le type et la structure des colonnes.\n",
    "\n",
    "# Informations générales sur le dataset\n",
    "print(df.info())\n",
    "\n",
    "# Dimensions du dataset\n",
    "print(\"Nombre de lignes et colonnes :\", df.shape)\n",
    "\n",
    "# Vérifier les types et un aperçu rapide\n",
    "print(df.dtypes)\n",
    "\n",
    "# Vérifier s'il y a des valeurs manquantes\n",
    "print(df.isnull().sum())\n"
   ]
  },
  {
   "cell_type": "markdown",
   "id": "47690b80",
   "metadata": {},
   "source": [
    "<center>\n",
    "<H2><span style=\"text-align: center; font-weight: bold; color: #746bb3ff;\">Tâche 2 : Analyse exploratoire des données (EDA)</span></H2>\n",
    "</center>"
   ]
  },
  {
   "cell_type": "markdown",
   "id": "28dc4fcd",
   "metadata": {},
   "source": [
    "🔹 Sous-tâche 1 : Comprendre la structure générale\n"
   ]
  },
  {
   "cell_type": "code",
   "execution_count": 10,
   "id": "57acb555",
   "metadata": {},
   "outputs": [
    {
     "name": "stdout",
     "output_type": "stream",
     "text": [
      "Dimensions : (1338, 7)\n",
      "Types de données :\n",
      " age           int64\n",
      "sex          object\n",
      "bmi         float64\n",
      "children      int64\n",
      "smoker       object\n",
      "region       object\n",
      "charges     float64\n",
      "dtype: object\n",
      "   age     sex     bmi  children smoker     region      charges\n",
      "0   19  female  27.900         0    yes  southwest  16884.92400\n",
      "1   18    male  33.770         1     no  southeast   1725.55230\n",
      "2   28    male  33.000         3     no  southeast   4449.46200\n",
      "3   33    male  22.705         0     no  northwest  21984.47061\n",
      "4   32    male  28.880         0     no  northwest   3866.85520\n"
     ]
    }
   ],
   "source": [
    "# Dimensions du dataset\n",
    "print(\"Dimensions :\", df.shape)\n",
    "\n",
    "# Types de colonnes\n",
    "print(\"Types de données :\\n\", df.dtypes)\n",
    "\n",
    "# Aperçu des premières lignes\n",
    "print(df.head())"
   ]
  },
  {
   "cell_type": "markdown",
   "id": "2fd638a4",
   "metadata": {},
   "source": [
    "🔹 Sous-tâche 2 : Analyse descriptive"
   ]
  },
  {
   "cell_type": "code",
   "execution_count": 12,
   "id": "9988b521",
   "metadata": {},
   "outputs": [
    {
     "name": "stdout",
     "output_type": "stream",
     "text": [
      "Dimensions : (1338, 7)\n",
      "Types de données :\n",
      " age           int64\n",
      "sex          object\n",
      "bmi         float64\n",
      "children      int64\n",
      "smoker       object\n",
      "region       object\n",
      "charges     float64\n",
      "dtype: object\n",
      "   age     sex     bmi  children smoker     region      charges\n",
      "0   19  female  27.900         0    yes  southwest  16884.92400\n",
      "1   18    male  33.770         1     no  southeast   1725.55230\n",
      "2   28    male  33.000         3     no  southeast   4449.46200\n",
      "3   33    male  22.705         0     no  northwest  21984.47061\n",
      "4   32    male  28.880         0     no  northwest   3866.85520\n",
      "Statistiques générales (numériques) :\n",
      "               age          bmi     children       charges\n",
      "count  1338.000000  1338.000000  1338.000000   1338.000000\n",
      "mean     39.207025    30.663397     1.094918  13270.422265\n",
      "std      14.049960     6.098187     1.205493  12110.011237\n",
      "min      18.000000    15.960000     0.000000   1121.873900\n",
      "25%      27.000000    26.296250     0.000000   4740.287150\n",
      "50%      39.000000    30.400000     1.000000   9382.033000\n",
      "75%      51.000000    34.693750     2.000000  16639.912515\n",
      "max      64.000000    53.130000     5.000000  63770.428010\n",
      "\n",
      "Médianes des variables numériques :\n",
      "age           39.000\n",
      "bmi           30.400\n",
      "children       1.000\n",
      "charges     9382.033\n",
      "dtype: float64\n",
      "\n",
      "Fréquences des variables catégorielles :\n",
      "\n",
      "Variable : sex\n",
      "sex\n",
      "male      676\n",
      "female    662\n",
      "Name: count, dtype: int64\n",
      "----------------------------------------\n",
      "\n",
      "Variable : smoker\n",
      "smoker\n",
      "no     1064\n",
      "yes     274\n",
      "Name: count, dtype: int64\n",
      "----------------------------------------\n",
      "\n",
      "Variable : region\n",
      "region\n",
      "southeast    364\n",
      "southwest    325\n",
      "northwest    325\n",
      "northeast    324\n",
      "Name: count, dtype: int64\n",
      "----------------------------------------\n"
     ]
    }
   ],
   "source": [
    "# Dimensions du dataset\n",
    "print(\"Dimensions :\", df.shape)\n",
    "\n",
    "# Types de colonnes\n",
    "print(\"Types de données :\\n\", df.dtypes)\n",
    "\n",
    "# Aperçu des premières lignes\n",
    "print(df.head())\n",
    "\n",
    "# ---- Variables numériques ----\n",
    "print(\"Statistiques générales (numériques) :\")\n",
    "print(df.describe())   # Moyenne, écart-type, min, max, quartiles\n",
    "\n",
    "# Médianes\n",
    "print(\"\\nMédianes des variables numériques :\")\n",
    "print(df.median(numeric_only=True))\n",
    "\n",
    "# ---- Variables catégorielles ----\n",
    "print(\"\\nFréquences des variables catégorielles :\")\n",
    "cat_cols = df.select_dtypes(include=[\"object\", \"category\"]).columns\n",
    "for col in cat_cols:\n",
    "    print(f\"\\nVariable : {col}\")\n",
    "    print(df[col].value_counts())\n",
    "    print(\"-\"*40)\n"
   ]
  },
  {
   "cell_type": "markdown",
   "id": "92b4854e",
   "metadata": {},
   "source": [
    "🔹 Sous-tâche 3  :Identifier les valeurs manquantes et les doublons."
   ]
  },
  {
   "cell_type": "code",
   "execution_count": 13,
   "id": "5fafc15f",
   "metadata": {},
   "outputs": [
    {
     "name": "stdout",
     "output_type": "stream",
     "text": [
      "===== Vérification des valeurs manquantes =====\n",
      "\n",
      "age         0\n",
      "sex         0\n",
      "bmi         0\n",
      "children    0\n",
      "smoker      0\n",
      "region      0\n",
      "charges     0\n",
      "dtype: int64\n",
      "\n",
      "===== Vérification des doublons =====\n",
      "\n",
      "Nombre de doublons : 1\n"
     ]
    }
   ],
   "source": [
    "print(\"===== Vérification des valeurs manquantes =====\\n\")\n",
    "print(df.isnull().sum())   # nombre de valeurs manquantes par colonne\n",
    "\n",
    "print(\"\\n===== Vérification des doublons =====\\n\")\n",
    "nb_duplicated = df.duplicated().sum()\n",
    "print(f\"Nombre de doublons : {nb_duplicated}\")"
   ]
  }
 ],
 "metadata": {
  "kernelspec": {
   "display_name": "Python 3",
   "language": "python",
   "name": "python3"
  },
  "language_info": {
   "codemirror_mode": {
    "name": "ipython",
    "version": 3
   },
   "file_extension": ".py",
   "mimetype": "text/x-python",
   "name": "python",
   "nbconvert_exporter": "python",
   "pygments_lexer": "ipython3",
   "version": "3.13.7"
  }
 },
 "nbformat": 4,
 "nbformat_minor": 5
}
